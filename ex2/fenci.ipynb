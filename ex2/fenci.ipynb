{
 "cells": [
  {
   "cell_type": "code",
   "execution_count": 32,
   "metadata": {},
   "outputs": [],
   "source": [
    "# 读入分词数据库\n",
    "with open(\"中文分词词库整理/30万 中文分词词库.txt\", \"r\") as r:\n",
    "    file_read=r.readlines()\n",
    "    data=[]\n",
    "    for i in file_read:\n",
    "        i=i.split(\"\\t\") # 查看文档格式后，使用\\t分割\n",
    "        data.append(i[1])\n",
    "with open(\"中文分词词库整理/42537条伪原创词库.txt\", \"r\") as r:\n",
    "    file_read=r.readlines()\n",
    "    cnt=0\n",
    "    for i in file_read:\n",
    "        i=i.strip().split(\"→\")  # 查看文档格式后，使用→分割\n",
    "        data.extend(i)          # 扩展添加上一个词库后的data\n",
    "        cnt+=1\n",
    "with open(\"data.txt\",\"w\") as w: # 记录下可用的分词data数据\n",
    "    for i in data:\n",
    "        w.write(i+\"\\n\")"
   ]
  },
  {
   "cell_type": "code",
   "execution_count": 33,
   "metadata": {},
   "outputs": [],
   "source": [
    "# FMM\n",
    "def fmm(str):\n",
    "    fenci=\"\"    # 返回值\n",
    "    cnt=7           # 初始间隔7\n",
    "    length=len(str) # 句子长度\n",
    "    begin=0         # 句中匹配位置初始位置\n",
    "    end=begin+cnt   # 匹配位置末位置\n",
    "    while begin<length:     # 跳出循环条件\n",
    "        l=begin     # 在每次匹配中，起始点就是begin\n",
    "        r=end if end<length else length # 末位置有可能超限，需处理\n",
    "        if l==r:    # 两者相等，说明只剩一个字，不需要词库中匹配\n",
    "            fenci=fenci+(str[l]+\"/\")\n",
    "            begin+=1\n",
    "            continue\n",
    "        word=str[l:r]   # 取出句子中l~r-1位置的词，在词库中比对\n",
    "        if word in data:    # 比对成功\n",
    "            fenci+=(word+\"/\")   # 添加到分词中，并更新始末位置\n",
    "            begin=end\n",
    "            end=begin+cnt\n",
    "        else:\n",
    "            end-=1      # 比对失败，说明词块段要缩短\n",
    "    return fenci\n"
   ]
  },
  {
   "cell_type": "code",
   "execution_count": 34,
   "metadata": {},
   "outputs": [],
   "source": [
    "# BMM\n",
    "def bmm(str):\n",
    "    fenci=\"\"\n",
    "    cnt=7\n",
    "    length=len(str)\n",
    "    end=length          # BMM这里需要先初始化end\n",
    "    begin=end-cnt\n",
    "    while end>=0:\n",
    "        l=begin if begin>=0 else 0  # 这里是初始位置可能超限，需处理\n",
    "        r=end\n",
    "        if l==r:    # l==r，说明词块段缩短到1，无需匹配\n",
    "            fenci=(str[l]+\"/\")+fenci\n",
    "            end-=1\n",
    "            continue\n",
    "        word=str[l:r]   # 从句子中取词\n",
    "        if word in data:    # 匹配成功  \n",
    "            fenci=(word+\"/\")+fenci  # 更新\n",
    "            end=begin\n",
    "            begin=end-cnt\n",
    "        else:           # 匹配失败，初始位置加1\n",
    "            begin+=1\n",
    "    return fenci\n"
   ]
  },
  {
   "cell_type": "code",
   "execution_count": 35,
   "metadata": {},
   "outputs": [],
   "source": [
    "# 双向算法\n",
    "def BiMM(str):\n",
    "    str_f=fmm(str)\n",
    "    str_b=bmm(str)\n",
    "    print(\"FMM算法结果： %s\" % str_f)\n",
    "    print(\"BMM算法结果： %s\" % str_b)\n",
    "    sf=str_f.strip(\"/\").split(\"/\")  # 使用/分割，FMM，BMM\n",
    "    sb=str_b.strip(\"/\").split(\"/\")\n",
    "    lenf=len(sf)        # 首先计算FMM，和BMM分词长度\n",
    "    lenb=len(sb)\n",
    "    if lenf>lenb:       # BiMM返回两者中，分词数少的那个\n",
    "        return str_b\n",
    "    elif lenf<lenb:\n",
    "        return str_f\n",
    "    else:               # 如果两者分词数相等，返回单字少的\n",
    "        cnt_f=0\n",
    "        cnt_b=0\n",
    "        for i in sf:\n",
    "            if len(i)==1:\n",
    "                cnt_f+=1\n",
    "        for i in sb:\n",
    "            if len(i)==1:\n",
    "                cnt_b+=1\n",
    "        if cnt_f<cnt_b:\n",
    "            return str_f\n",
    "        else:           # 如果单字数相等，默认返回后向算法的\n",
    "            return str_b"
   ]
  },
  {
   "cell_type": "code",
   "execution_count": 43,
   "metadata": {},
   "outputs": [
    {
     "name": "stdout",
     "output_type": "stream",
     "text": [
      "FMM算法结果： 他/是/研究生/物化/学/的/一位/科学家/\n",
      "BMM算法结果： 他/是/研究/生物化学/的/一位/科学家/\n",
      "BiMM算法结果：他/是/研究/生物化学/的/一位/科学家/\n"
     ]
    }
   ],
   "source": [
    "str=\"他是研究生物化学的一位科学家\"\n",
    "print(\"BiMM算法结果：%s\" % BiMM(str))\n"
   ]
  }
 ],
 "metadata": {
  "interpreter": {
   "hash": "f94055e97f51ddfa7d9cd102fb05edcbeb6bf63bb7fd3b128357cbdb378bd053"
  },
  "kernelspec": {
   "display_name": "Python 3.7.5 64-bit ('tensorflow': conda)",
   "language": "python",
   "name": "python3"
  },
  "language_info": {
   "codemirror_mode": {
    "name": "ipython",
    "version": 3
   },
   "file_extension": ".py",
   "mimetype": "text/x-python",
   "name": "python",
   "nbconvert_exporter": "python",
   "pygments_lexer": "ipython3",
   "version": "3.7.5"
  },
  "orig_nbformat": 4
 },
 "nbformat": 4,
 "nbformat_minor": 2
}
